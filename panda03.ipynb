{
 "cells": [
  {
   "cell_type": "code",
   "execution_count": 13,
   "id": "72006d72",
   "metadata": {},
   "outputs": [],
   "source": [
    "import numpy as np\n",
    "import pandas as pd"
   ]
  },
  {
   "cell_type": "code",
   "execution_count": 14,
   "id": "3efb1b31",
   "metadata": {},
   "outputs": [],
   "source": [
    "company=pd.read_csv('Fortune500.csv')"
   ]
  },
  {
   "cell_type": "code",
   "execution_count": 15,
   "id": "59f0a794",
   "metadata": {},
   "outputs": [
    {
     "data": {
      "text/html": [
       "<div>\n",
       "<style scoped>\n",
       "    .dataframe tbody tr th:only-of-type {\n",
       "        vertical-align: middle;\n",
       "    }\n",
       "\n",
       "    .dataframe tbody tr th {\n",
       "        vertical-align: top;\n",
       "    }\n",
       "\n",
       "    .dataframe thead th {\n",
       "        text-align: right;\n",
       "    }\n",
       "</style>\n",
       "<table border=\"1\" class=\"dataframe\">\n",
       "  <thead>\n",
       "    <tr style=\"text-align: right;\">\n",
       "      <th></th>\n",
       "      <th>Rank</th>\n",
       "      <th>Company Name</th>\n",
       "      <th>Number of Employees</th>\n",
       "      <th>Previous Rank</th>\n",
       "      <th>Revenues</th>\n",
       "      <th>Revenue Change</th>\n",
       "      <th>Profits</th>\n",
       "      <th>Profit Change</th>\n",
       "      <th>Assets</th>\n",
       "      <th>Market Value</th>\n",
       "    </tr>\n",
       "  </thead>\n",
       "  <tbody>\n",
       "    <tr>\n",
       "      <th>0</th>\n",
       "      <td>1</td>\n",
       "      <td>Walmart</td>\n",
       "      <td>23,00,000</td>\n",
       "      <td>1.0</td>\n",
       "      <td>$4,85,873</td>\n",
       "      <td>0.80%</td>\n",
       "      <td>$13,643.0</td>\n",
       "      <td>-7.20%</td>\n",
       "      <td>$1,98,825</td>\n",
       "      <td>$2,18,619</td>\n",
       "    </tr>\n",
       "    <tr>\n",
       "      <th>1</th>\n",
       "      <td>2</td>\n",
       "      <td>Berkshire Hathaway</td>\n",
       "      <td>3,67,700</td>\n",
       "      <td>4.0</td>\n",
       "      <td>$2,23,604</td>\n",
       "      <td>6.10%</td>\n",
       "      <td>$24,074.0</td>\n",
       "      <td>0.00%</td>\n",
       "      <td>$6,20,854</td>\n",
       "      <td>$4,11,035</td>\n",
       "    </tr>\n",
       "    <tr>\n",
       "      <th>2</th>\n",
       "      <td>3</td>\n",
       "      <td>Apple</td>\n",
       "      <td>1,16,000</td>\n",
       "      <td>3.0</td>\n",
       "      <td>$2,15,639</td>\n",
       "      <td>-7.70%</td>\n",
       "      <td>$45,687.0</td>\n",
       "      <td>-14.40%</td>\n",
       "      <td>$3,21,686</td>\n",
       "      <td>$7,53,718</td>\n",
       "    </tr>\n",
       "    <tr>\n",
       "      <th>3</th>\n",
       "      <td>4</td>\n",
       "      <td>Exxon Mobil</td>\n",
       "      <td>72,700</td>\n",
       "      <td>2.0</td>\n",
       "      <td>$2,05,004</td>\n",
       "      <td>-16.70%</td>\n",
       "      <td>$7,840.0</td>\n",
       "      <td>-51.50%</td>\n",
       "      <td>$3,30,314</td>\n",
       "      <td>$3,40,056</td>\n",
       "    </tr>\n",
       "    <tr>\n",
       "      <th>4</th>\n",
       "      <td>5</td>\n",
       "      <td>McKesson</td>\n",
       "      <td>68,000</td>\n",
       "      <td>5.0</td>\n",
       "      <td>$1,92,487</td>\n",
       "      <td>6.20%</td>\n",
       "      <td>$2,258.0</td>\n",
       "      <td>53.00%</td>\n",
       "      <td>$56,563</td>\n",
       "      <td>$31,439</td>\n",
       "    </tr>\n",
       "  </tbody>\n",
       "</table>\n",
       "</div>"
      ],
      "text/plain": [
       "   Rank        Company Name Number of Employees  Previous Rank   Revenues  \\\n",
       "0     1             Walmart           23,00,000            1.0  $4,85,873   \n",
       "1     2  Berkshire Hathaway            3,67,700            4.0  $2,23,604   \n",
       "2     3               Apple            1,16,000            3.0  $2,15,639   \n",
       "3     4         Exxon Mobil              72,700            2.0  $2,05,004   \n",
       "4     5            McKesson              68,000            5.0  $1,92,487   \n",
       "\n",
       "  Revenue Change    Profits Profit Change     Assets Market Value  \n",
       "0          0.80%  $13,643.0        -7.20%  $1,98,825    $2,18,619  \n",
       "1          6.10%  $24,074.0         0.00%  $6,20,854    $4,11,035  \n",
       "2         -7.70%  $45,687.0       -14.40%  $3,21,686    $7,53,718  \n",
       "3        -16.70%   $7,840.0       -51.50%  $3,30,314    $3,40,056  \n",
       "4          6.20%   $2,258.0        53.00%    $56,563      $31,439  "
      ]
     },
     "execution_count": 15,
     "metadata": {},
     "output_type": "execute_result"
    }
   ],
   "source": [
    "company.head()"
   ]
  },
  {
   "cell_type": "markdown",
   "id": "ed199866",
   "metadata": {},
   "source": [
    "Groupby - analysis on basis of group"
   ]
  },
  {
   "cell_type": "code",
   "execution_count": 17,
   "id": "b69fc50a",
   "metadata": {},
   "outputs": [],
   "source": [
    "name=company.groupby('Company Name')"
   ]
  },
  {
   "cell_type": "code",
   "execution_count": 18,
   "id": "83daca13",
   "metadata": {},
   "outputs": [
    {
     "data": {
      "text/plain": [
       "<pandas.core.groupby.generic.DataFrameGroupBy object at 0x00000127C641BEE0>"
      ]
     },
     "execution_count": 18,
     "metadata": {},
     "output_type": "execute_result"
    }
   ],
   "source": [
    "name"
   ]
  },
  {
   "cell_type": "code",
   "execution_count": 19,
   "id": "24cd022b",
   "metadata": {},
   "outputs": [
    {
     "data": {
      "text/plain": [
       "500"
      ]
     },
     "execution_count": 19,
     "metadata": {},
     "output_type": "execute_result"
    }
   ],
   "source": [
    "len(company)"
   ]
  },
  {
   "cell_type": "code",
   "execution_count": 20,
   "id": "ce72b1fd",
   "metadata": {},
   "outputs": [
    {
     "data": {
      "text/plain": [
       "497"
      ]
     },
     "execution_count": 20,
     "metadata": {},
     "output_type": "execute_result"
    }
   ],
   "source": [
    "len(name)"
   ]
  },
  {
   "cell_type": "code",
   "execution_count": 23,
   "id": "8582fb29",
   "metadata": {},
   "outputs": [
    {
     "data": {
      "text/plain": [
       "Company Name\n",
       "Regions Financial       2\n",
       "Alcoa                   2\n",
       "Avnet                   2\n",
       "3M                      1\n",
       "Nucor                   1\n",
       "                       ..\n",
       "Eli Lilly               1\n",
       "Edison International    1\n",
       "Ecolab                  1\n",
       "Eastman Chemical        1\n",
       "salesforce.com          1\n",
       "Length: 497, dtype: int64"
      ]
     },
     "execution_count": 23,
     "metadata": {},
     "output_type": "execute_result"
    }
   ],
   "source": [
    "name.size().sort_values(ascending=False)"
   ]
  },
  {
   "cell_type": "code",
   "execution_count": 24,
   "id": "acefe913",
   "metadata": {},
   "outputs": [
    {
     "data": {
      "text/html": [
       "<div>\n",
       "<style scoped>\n",
       "    .dataframe tbody tr th:only-of-type {\n",
       "        vertical-align: middle;\n",
       "    }\n",
       "\n",
       "    .dataframe tbody tr th {\n",
       "        vertical-align: top;\n",
       "    }\n",
       "\n",
       "    .dataframe thead th {\n",
       "        text-align: right;\n",
       "    }\n",
       "</style>\n",
       "<table border=\"1\" class=\"dataframe\">\n",
       "  <thead>\n",
       "    <tr style=\"text-align: right;\">\n",
       "      <th></th>\n",
       "      <th>Rank</th>\n",
       "      <th>Number of Employees</th>\n",
       "      <th>Previous Rank</th>\n",
       "      <th>Revenues</th>\n",
       "      <th>Revenue Change</th>\n",
       "      <th>Profits</th>\n",
       "      <th>Profit Change</th>\n",
       "      <th>Assets</th>\n",
       "      <th>Market Value</th>\n",
       "    </tr>\n",
       "    <tr>\n",
       "      <th>Company Name</th>\n",
       "      <th></th>\n",
       "      <th></th>\n",
       "      <th></th>\n",
       "      <th></th>\n",
       "      <th></th>\n",
       "      <th></th>\n",
       "      <th></th>\n",
       "      <th></th>\n",
       "      <th></th>\n",
       "    </tr>\n",
       "  </thead>\n",
       "  <tbody>\n",
       "    <tr>\n",
       "      <th>3M</th>\n",
       "      <td>94</td>\n",
       "      <td>91,584</td>\n",
       "      <td>93.0</td>\n",
       "      <td>$30,109</td>\n",
       "      <td>-0.50%</td>\n",
       "      <td>$5,050.0</td>\n",
       "      <td>4.50%</td>\n",
       "      <td>$32,906</td>\n",
       "      <td>$1,14,338</td>\n",
       "    </tr>\n",
       "    <tr>\n",
       "      <th>A-Mark Precious Metals</th>\n",
       "      <td>395</td>\n",
       "      <td>83,000</td>\n",
       "      <td>426.0</td>\n",
       "      <td>$6,784</td>\n",
       "      <td>11.80%</td>\n",
       "      <td>$9.3</td>\n",
       "      <td>31.50%</td>\n",
       "      <td>$437</td>\n",
       "      <td>$120</td>\n",
       "    </tr>\n",
       "    <tr>\n",
       "      <th>ABM Industries</th>\n",
       "      <td>500</td>\n",
       "      <td>1,10,000</td>\n",
       "      <td>485.0</td>\n",
       "      <td>$5,145</td>\n",
       "      <td>-2.80%</td>\n",
       "      <td>$57.2</td>\n",
       "      <td>-25.00%</td>\n",
       "      <td>$2,281</td>\n",
       "      <td>$2,428</td>\n",
       "    </tr>\n",
       "    <tr>\n",
       "      <th>ADP</th>\n",
       "      <td>240</td>\n",
       "      <td>57,000</td>\n",
       "      <td>248.0</td>\n",
       "      <td>$11,668</td>\n",
       "      <td>1.70%</td>\n",
       "      <td>$1,492.5</td>\n",
       "      <td>2.80%</td>\n",
       "      <td>$43,670</td>\n",
       "      <td>$45,963</td>\n",
       "    </tr>\n",
       "    <tr>\n",
       "      <th>AECOM</th>\n",
       "      <td>161</td>\n",
       "      <td>87,000</td>\n",
       "      <td>156.0</td>\n",
       "      <td>$17,411</td>\n",
       "      <td>-3.20%</td>\n",
       "      <td>$96.1</td>\n",
       "      <td>-</td>\n",
       "      <td>$13,727</td>\n",
       "      <td>$5,528</td>\n",
       "    </tr>\n",
       "    <tr>\n",
       "      <th>...</th>\n",
       "      <td>...</td>\n",
       "      <td>...</td>\n",
       "      <td>...</td>\n",
       "      <td>...</td>\n",
       "      <td>...</td>\n",
       "      <td>...</td>\n",
       "      <td>...</td>\n",
       "      <td>...</td>\n",
       "      <td>...</td>\n",
       "    </tr>\n",
       "    <tr>\n",
       "      <th>Yum China Holdings</th>\n",
       "      <td>399</td>\n",
       "      <td>4,20,000</td>\n",
       "      <td>NaN</td>\n",
       "      <td>$6,752</td>\n",
       "      <td>-</td>\n",
       "      <td>$502.0</td>\n",
       "      <td>-</td>\n",
       "      <td>$3,727</td>\n",
       "      <td>$10,453</td>\n",
       "    </tr>\n",
       "    <tr>\n",
       "      <th>Zimmer Biomet Holdings</th>\n",
       "      <td>352</td>\n",
       "      <td>18,500</td>\n",
       "      <td>431.0</td>\n",
       "      <td>$7,684</td>\n",
       "      <td>28.10%</td>\n",
       "      <td>$305.9</td>\n",
       "      <td>108.10%</td>\n",
       "      <td>$26,684</td>\n",
       "      <td>$24,571</td>\n",
       "    </tr>\n",
       "    <tr>\n",
       "      <th>eBay</th>\n",
       "      <td>310</td>\n",
       "      <td>12,600</td>\n",
       "      <td>300.0</td>\n",
       "      <td>$8,979</td>\n",
       "      <td>-5.40%</td>\n",
       "      <td>$7,266.0</td>\n",
       "      <td>321.20%</td>\n",
       "      <td>$23,847</td>\n",
       "      <td>$36,232</td>\n",
       "    </tr>\n",
       "    <tr>\n",
       "      <th>iHeartMedia</th>\n",
       "      <td>426</td>\n",
       "      <td>18,700</td>\n",
       "      <td>414.0</td>\n",
       "      <td>$6,274</td>\n",
       "      <td>0.50%</td>\n",
       "      <td>-$296.3</td>\n",
       "      <td>-</td>\n",
       "      <td>$12,862</td>\n",
       "      <td>$330</td>\n",
       "    </tr>\n",
       "    <tr>\n",
       "      <th>salesforce.com</th>\n",
       "      <td>326</td>\n",
       "      <td>25,000</td>\n",
       "      <td>386.0</td>\n",
       "      <td>$8,392</td>\n",
       "      <td>25.90%</td>\n",
       "      <td>$179.6</td>\n",
       "      <td>-</td>\n",
       "      <td>$17,585</td>\n",
       "      <td>$58,362</td>\n",
       "    </tr>\n",
       "  </tbody>\n",
       "</table>\n",
       "<p>497 rows × 9 columns</p>\n",
       "</div>"
      ],
      "text/plain": [
       "                        Rank Number of Employees  Previous Rank Revenues  \\\n",
       "Company Name                                                               \n",
       "3M                        94              91,584           93.0  $30,109   \n",
       "A-Mark Precious Metals   395              83,000          426.0   $6,784   \n",
       "ABM Industries           500            1,10,000          485.0   $5,145   \n",
       "ADP                      240              57,000          248.0  $11,668   \n",
       "AECOM                    161              87,000          156.0  $17,411   \n",
       "...                      ...                 ...            ...      ...   \n",
       "Yum China Holdings       399            4,20,000            NaN   $6,752   \n",
       "Zimmer Biomet Holdings   352              18,500          431.0   $7,684   \n",
       "eBay                     310              12,600          300.0   $8,979   \n",
       "iHeartMedia              426              18,700          414.0   $6,274   \n",
       "salesforce.com           326              25,000          386.0   $8,392   \n",
       "\n",
       "                       Revenue Change   Profits Profit Change   Assets  \\\n",
       "Company Name                                                             \n",
       "3M                             -0.50%  $5,050.0         4.50%  $32,906   \n",
       "A-Mark Precious Metals         11.80%      $9.3        31.50%     $437   \n",
       "ABM Industries                 -2.80%     $57.2       -25.00%   $2,281   \n",
       "ADP                             1.70%  $1,492.5         2.80%  $43,670   \n",
       "AECOM                          -3.20%     $96.1             -  $13,727   \n",
       "...                               ...       ...           ...      ...   \n",
       "Yum China Holdings                  -    $502.0             -   $3,727   \n",
       "Zimmer Biomet Holdings         28.10%    $305.9       108.10%  $26,684   \n",
       "eBay                           -5.40%  $7,266.0       321.20%  $23,847   \n",
       "iHeartMedia                     0.50%   -$296.3             -  $12,862   \n",
       "salesforce.com                 25.90%    $179.6             -  $17,585   \n",
       "\n",
       "                       Market Value  \n",
       "Company Name                         \n",
       "3M                        $1,14,338  \n",
       "A-Mark Precious Metals         $120  \n",
       "ABM Industries               $2,428  \n",
       "ADP                         $45,963  \n",
       "AECOM                        $5,528  \n",
       "...                             ...  \n",
       "Yum China Holdings          $10,453  \n",
       "Zimmer Biomet Holdings      $24,571  \n",
       "eBay                        $36,232  \n",
       "iHeartMedia                    $330  \n",
       "salesforce.com              $58,362  \n",
       "\n",
       "[497 rows x 9 columns]"
      ]
     },
     "execution_count": 24,
     "metadata": {},
     "output_type": "execute_result"
    }
   ],
   "source": [
    "name.first()"
   ]
  },
  {
   "cell_type": "code",
   "execution_count": 25,
   "id": "6a0b158a",
   "metadata": {},
   "outputs": [
    {
     "data": {
      "text/plain": [
       "{'3M': [93], 'A-Mark Precious Metals': [394], 'ABM Industries': [499], 'ADP': [239], 'AECOM': [160], 'AES': [193], 'AGCO': [369], 'AIG': [54], 'AK Steel Holding': [440], 'AT&T': [8], 'AbbVie': [110], 'Abbott Laboratories': [134], 'Activision Blizzard': [405], 'Adobe Systems': [442], 'Advance Auto Parts': [291], 'Aetna': [42], 'Aflac': [125], 'Air Products & Chemicals': [293], 'Airgas': [488], 'Alaska Air Group': [437], 'Albertsons Cos.': [48], 'Alcoa': [227, 299], 'Alleghany': [427], 'Alliance Data Systems': [377], 'Allstate': [83], 'Ally Financial': [285], 'Alphabet': [26], 'Altria Group': [147], 'AmTrust Financial Services': [474], 'Amazon.com': [11], 'Ameren': [430], 'American Airlines Group': [66], 'American Electric Power': [166], 'American Express': [85], 'American Family Insurance Group': [314], 'American Financial Group': [410], 'American Tower': [448], 'Ameriprise Financial': [238], 'AmerisourceBergen': [10], 'Amgen': [122], 'Amphenol': [423], 'Anadarko Petroleum': [343], 'Anixter International': [358], 'Anthem': [28], 'Apache': [487], 'Apple': [2], 'Applied Materials': [264], 'Aramark': [191], 'Archer Daniels Midland': [44], 'Arrow Electronics': [117], 'Arthur J. Gallagher': [461], 'Asbury Automotive Group': [409], 'Ascena Retail Group': [383], 'Assurant': [360], 'Auto-Owners Insurance': [397], 'AutoNation': [128], 'AutoZone': [269], 'Autoliv': [282], 'Avery Dennison': [429], 'Avis Budget Group': [318], 'Avnet': [107, 108], 'Avon Products': [443], 'BB&T Corp.': [244], 'Baker Hughes': [284], 'Ball': [305], 'Bank of America Corp.': [25], 'Bank of New York Mellon Corp.': [176], 'Baxter International': [280], 'Becton Dickinson': [224], 'Bed Bath & Beyond': [232], 'Berkshire Hathaway': [1], 'Berry Global Group': [412], 'Best Buy': [71], 'Big Lots': [494], 'Biogen': [247], 'BlackRock': [254], 'Boeing': [23], 'Booz Allen Hamilton Holding': [480], 'BorgWarner': [304], 'Boston Scientific': [326], 'Bristol-Myers Squibb': [146], 'Builders FirstSource': [420], 'Burlington Stores': [462], 'C.H. Robinson Worldwide': [211], 'CBRE Group': [213], 'CBS': [192], 'CDW': [198], 'CH2M Hill': [493], 'CHS': [92], 'CMS Energy': [418], 'CST Brands': [306], 'CSX': [256], 'CVS Health': [6], 'CalAtlantic Group': [414], 'Calpine': [399], 'Campbell Soup': [338], 'Capital One Financial': [99], 'CarMax': [173], 'Cardinal Health': [14], 'Casey?s General Stores': [422], ...}"
      ]
     },
     "execution_count": 25,
     "metadata": {},
     "output_type": "execute_result"
    }
   ],
   "source": [
    "name.groups"
   ]
  },
  {
   "cell_type": "code",
   "execution_count": 28,
   "id": "2dee3e8f",
   "metadata": {},
   "outputs": [
    {
     "data": {
      "text/html": [
       "<div>\n",
       "<style scoped>\n",
       "    .dataframe tbody tr th:only-of-type {\n",
       "        vertical-align: middle;\n",
       "    }\n",
       "\n",
       "    .dataframe tbody tr th {\n",
       "        vertical-align: top;\n",
       "    }\n",
       "\n",
       "    .dataframe thead th {\n",
       "        text-align: right;\n",
       "    }\n",
       "</style>\n",
       "<table border=\"1\" class=\"dataframe\">\n",
       "  <thead>\n",
       "    <tr style=\"text-align: right;\">\n",
       "      <th></th>\n",
       "      <th>Rank</th>\n",
       "      <th>Previous Rank</th>\n",
       "    </tr>\n",
       "    <tr>\n",
       "      <th>Company Name</th>\n",
       "      <th></th>\n",
       "      <th></th>\n",
       "    </tr>\n",
       "  </thead>\n",
       "  <tbody>\n",
       "    <tr>\n",
       "      <th>3M</th>\n",
       "      <td>94</td>\n",
       "      <td>93.0</td>\n",
       "    </tr>\n",
       "    <tr>\n",
       "      <th>A-Mark Precious Metals</th>\n",
       "      <td>395</td>\n",
       "      <td>426.0</td>\n",
       "    </tr>\n",
       "    <tr>\n",
       "      <th>ABM Industries</th>\n",
       "      <td>500</td>\n",
       "      <td>485.0</td>\n",
       "    </tr>\n",
       "    <tr>\n",
       "      <th>ADP</th>\n",
       "      <td>240</td>\n",
       "      <td>248.0</td>\n",
       "    </tr>\n",
       "    <tr>\n",
       "      <th>AECOM</th>\n",
       "      <td>161</td>\n",
       "      <td>156.0</td>\n",
       "    </tr>\n",
       "    <tr>\n",
       "      <th>...</th>\n",
       "      <td>...</td>\n",
       "      <td>...</td>\n",
       "    </tr>\n",
       "    <tr>\n",
       "      <th>Yum China Holdings</th>\n",
       "      <td>399</td>\n",
       "      <td>0.0</td>\n",
       "    </tr>\n",
       "    <tr>\n",
       "      <th>Zimmer Biomet Holdings</th>\n",
       "      <td>352</td>\n",
       "      <td>431.0</td>\n",
       "    </tr>\n",
       "    <tr>\n",
       "      <th>eBay</th>\n",
       "      <td>310</td>\n",
       "      <td>300.0</td>\n",
       "    </tr>\n",
       "    <tr>\n",
       "      <th>iHeartMedia</th>\n",
       "      <td>426</td>\n",
       "      <td>414.0</td>\n",
       "    </tr>\n",
       "    <tr>\n",
       "      <th>salesforce.com</th>\n",
       "      <td>326</td>\n",
       "      <td>386.0</td>\n",
       "    </tr>\n",
       "  </tbody>\n",
       "</table>\n",
       "<p>497 rows × 2 columns</p>\n",
       "</div>"
      ],
      "text/plain": [
       "                        Rank  Previous Rank\n",
       "Company Name                               \n",
       "3M                        94           93.0\n",
       "A-Mark Precious Metals   395          426.0\n",
       "ABM Industries           500          485.0\n",
       "ADP                      240          248.0\n",
       "AECOM                    161          156.0\n",
       "...                      ...            ...\n",
       "Yum China Holdings       399            0.0\n",
       "Zimmer Biomet Holdings   352          431.0\n",
       "eBay                     310          300.0\n",
       "iHeartMedia              426          414.0\n",
       "salesforce.com           326          386.0\n",
       "\n",
       "[497 rows x 2 columns]"
      ]
     },
     "execution_count": 28,
     "metadata": {},
     "output_type": "execute_result"
    }
   ],
   "source": [
    "name.sum()"
   ]
  },
  {
   "cell_type": "code",
   "execution_count": 31,
   "id": "f69ae165",
   "metadata": {},
   "outputs": [
    {
     "data": {
      "text/plain": [
       "Company Name\n",
       "Olin                          761.0\n",
       "TreeHouse Foods               686.0\n",
       "CalAtlantic Group             640.0\n",
       "Builders FirstSource          637.0\n",
       "Tesla                         588.0\n",
       "                              ...  \n",
       "Dell Technologies               NaN\n",
       "Hewlett Packard Enterprise      NaN\n",
       "Synchrony Financial             NaN\n",
       "Vistra Energy                   NaN\n",
       "Yum China Holdings              NaN\n",
       "Name: Previous Rank, Length: 497, dtype: float64"
      ]
     },
     "execution_count": 31,
     "metadata": {},
     "output_type": "execute_result"
    }
   ],
   "source": [
    "name['Previous Rank'].mean().sort_values(ascending=False)"
   ]
  },
  {
   "cell_type": "code",
   "execution_count": null,
   "id": "820d0b3b",
   "metadata": {},
   "outputs": [],
   "source": []
  }
 ],
 "metadata": {
  "kernelspec": {
   "display_name": "Python 3 (ipykernel)",
   "language": "python",
   "name": "python3"
  },
  "language_info": {
   "codemirror_mode": {
    "name": "ipython",
    "version": 3
   },
   "file_extension": ".py",
   "mimetype": "text/x-python",
   "name": "python",
   "nbconvert_exporter": "python",
   "pygments_lexer": "ipython3",
   "version": "3.9.7"
  }
 },
 "nbformat": 4,
 "nbformat_minor": 5
}
